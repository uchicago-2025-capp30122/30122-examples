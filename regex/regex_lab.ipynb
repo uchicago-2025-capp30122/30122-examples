{
 "cells": [
  {
   "cell_type": "markdown",
   "metadata": {},
   "source": [
    "## Regex Lab\n",
    "\n",
    "If you use notebooks you can open this file and work directly in it.  If you prefer to work in a REPL you can copy & paste these short snippets into ipython as you go."
   ]
  },
  {
   "cell_type": "markdown",
   "metadata": {},
   "source": [
    "You may work with one person, you **may not** use AI. (Gen AI often writes very complex regex and tends to use JS syntax!)\n",
    "\n",
    "While in practice writing regex is definitely one of those areas you might find yourself using GenAI in the near future, learning how to read and write the basic syntax will remain valuable in understanding/debugging regular expressions.\n",
    "\n",
    "#### Your Name:\n",
    "#### (Optional) Partner Name:\n",
    "\n",
    "To receive credit for this lab work through all problems in this notebook and both you and your partner should make a submission.  (The submission form will be shared via Ed.)"
   ]
  },
  {
   "cell_type": "code",
   "execution_count": 4,
   "metadata": {},
   "outputs": [],
   "source": [
    "\n",
    "# To make it easy to test your regexes, I've provided a helper class\n",
    "# that you can use to test your regexes against a set of strings that\n",
    "# should match and a set of strings that should not match.\n",
    "\n",
    "# Note: the test cases are not exhaustive, but meant to provide some useful sample\n",
    "# cases.\n",
    "import re\n",
    "\n",
    "class RegexProblem:\n",
    "    def __init__(self, matches, non_matches):\n",
    "        self.matches = matches\n",
    "        self.non_matches = non_matches\n",
    "    \n",
    "    def try_regex(self, regex_str):\n",
    "        regex = re.compile(regex_str)\n",
    "        wrong = False\n",
    "        for match in self.matches:\n",
    "            if not regex.fullmatch(match):\n",
    "                print(f\"{match} should match but doesn't\")\n",
    "                wrong = True\n",
    "        for non_match in self.non_matches:\n",
    "            if regex.fullmatch(non_match):\n",
    "                print(f\"{non_match} should not match but does\")\n",
    "                wrong = True\n",
    "        if not wrong:\n",
    "            print(\"All tests passed!\")\n",
    "\n",
    "\n",
    "# example: match any string that only contains a's b's and/or c's\n",
    "example_problem = RegexProblem(\n",
    "    matches=[\"a\", \"bb\", \"ccc\", \"abc\", \"aaaaaaaa\"], \n",
    "    non_matches=[\"d\", \"ace\", \"xyz\"]\n",
    ")"
   ]
  },
  {
   "cell_type": "code",
   "execution_count": 5,
   "metadata": {},
   "outputs": [
    {
     "name": "stdout",
     "output_type": "stream",
     "text": [
      "bb should match but doesn't\n",
      "ccc should match but doesn't\n",
      "abc should match but doesn't\n",
      "aaaaaaaa should match but doesn't\n"
     ]
    }
   ],
   "source": [
    "# you can experiment with it (in a REPL or in a notebook) like this:\n",
    "example_problem.try_regex(\"[abc]\")"
   ]
  },
  {
   "cell_type": "code",
   "execution_count": 6,
   "metadata": {},
   "outputs": [
    {
     "name": "stdout",
     "output_type": "stream",
     "text": [
      "All tests passed!\n"
     ]
    }
   ],
   "source": [
    "# oh right! [abc] only matches a single character, so it doesn't match \"bb\"\n",
    "# let's try again:\n",
    "example_problem.try_regex(\"[abc]+\")"
   ]
  },
  {
   "cell_type": "markdown",
   "metadata": {},
   "source": [
    "**For this lab, with each problem below, try finding a regex that satisfies the tests run by try_regex.**\n",
    "\n",
    "Modify the calls to **try_regex** but not the **RegexProblem** classes which contain test cases."
   ]
  },
  {
   "cell_type": "markdown",
   "metadata": {},
   "source": [
    "## Problem 1: Warm-Up\n",
    "\n",
    "Let's build a regular expression that matches floating point numbers.  For this problem we'll go one piece at a time:"
   ]
  },
  {
   "cell_type": "code",
   "execution_count": 8,
   "metadata": {},
   "outputs": [],
   "source": [
    "# first start with a regex that only matches integers\n",
    "digits_only = RegexProblem(\n",
    "    [\"1\", \"123\", \"456789\", \"094\"], \n",
    "    [\"a\", \"4.5\", \"-75.412\", \"43a4\"]\n",
    ")"
   ]
  },
  {
   "cell_type": "code",
   "execution_count": 10,
   "metadata": {},
   "outputs": [
    {
     "name": "stdout",
     "output_type": "stream",
     "text": [
      "1 should match but doesn't\n",
      "123 should match but doesn't\n",
      "456789 should match but doesn't\n",
      "094 should match but doesn't\n"
     ]
    }
   ],
   "source": [
    "digits_only.try_regex(\"\")"
   ]
  },
  {
   "cell_type": "code",
   "execution_count": 9,
   "metadata": {},
   "outputs": [],
   "source": [
    "# the first pattern allowed numbers like 094, modify the regex to not allow zero as a leading digit\n",
    "integers_only = RegexProblem(\n",
    "    [\"1\", \"123\", \"456789\"], \n",
    "    [\"a\", \"4.5\", \"-75.412\", \"43a4\", \"094\", \"a94\"]\n",
    ")"
   ]
  },
  {
   "cell_type": "code",
   "execution_count": null,
   "metadata": {},
   "outputs": [],
   "source": [
    "integers_only.try_regex(\"\")"
   ]
  },
  {
   "cell_type": "code",
   "execution_count": 12,
   "metadata": {},
   "outputs": [],
   "source": [
    "# now lets allow negative numbers too, introduce a single (optional) leading dash\n",
    "allow_negatives = RegexProblem(\n",
    "    [\"1\", \"123\", \"456789\", \"-7\", \"-90\"],\n",
    "    [\"a\", \"4.5\", \"-75.412\", \"43a4\", \"094\", \"-04\"]\n",
    ")"
   ]
  },
  {
   "cell_type": "code",
   "execution_count": 17,
   "metadata": {},
   "outputs": [
    {
     "name": "stdout",
     "output_type": "stream",
     "text": [
      "1 should match but doesn't\n",
      "123 should match but doesn't\n",
      "456789 should match but doesn't\n",
      "-7 should match but doesn't\n",
      "-90 should match but doesn't\n"
     ]
    }
   ],
   "source": [
    "allow_negatives.try_regex(\"\")"
   ]
  },
  {
   "cell_type": "code",
   "execution_count": 19,
   "metadata": {},
   "outputs": [],
   "source": [
    "# alright, now allow a point and numbers after the decimal, this entire part is optional\n",
    "floats = RegexProblem(\n",
    "    [\"1\", \"123\", \"456789\", \"-7\", \"-90\", \"4.5\", \"-75.412\"], \n",
    "    [\"a\", \"43a4\", \"094\", \"-04\"]\n",
    ")"
   ]
  },
  {
   "cell_type": "code",
   "execution_count": 20,
   "metadata": {},
   "outputs": [],
   "source": [
    "# does your regex allow anything strange? \n",
    "# try modifying the test cases to see if you can find any bugs in your regex"
   ]
  },
  {
   "cell_type": "markdown",
   "metadata": {},
   "source": [
    "## Problem 2: A practical pattern\n",
    "\n",
    "Let's build something that matches URLs.\n",
    "\n",
    "As we saw before, URLs take the form:\n",
    "\n",
    "`protocol :// domain [:port] / [path]`\n",
    "\n",
    "This time, you can test your own regexes as you go to build a regex that matches this entire pattern.\n",
    "\n",
    "For our purposes we'll define each part as follows:\n",
    "\n",
    "* protocol - any string from 2-8 characters long that ends in `://`\n",
    "* domain - a mixture of letters and numbers optionally separated by dots '.'  (e.g. \"example.com\", \"101domain.com\", \"localhost\", \"cs.uchicago.edu\") Don't worry about invalid endings, etc. \n",
    "* port - a colon followed by a number (e.g. :8000, :443)\n",
    "* path - must begin with slash, then same rules as domain but also allow forward slashes  (e.g. \"/\", \"/index\", \"/index.html\", \"/a/123\")"
   ]
  },
  {
   "cell_type": "code",
   "execution_count": 10,
   "metadata": {},
   "outputs": [],
   "source": [
    "# feel free to practice with these, or go straight to the URL test cases\n",
    "protocol = RegexProblem([\"ws://\", \"http://\", \"https://\"], [\"ws:\", \"ws//\", \"x://\", \"http:/\", \"99://\"])\n",
    "domain = RegexProblem([\"example.com\", \"101domain.com\", \"localhost\", \"cs.uchicago.edu\", \"a.b.c.biz\", \"127.0.0.1\"],\n",
    "                      [\"no spaces.com\", \"bad?com\", \"\"])\n",
    "# if you want to write your own test cases for port and path you can do so"
   ]
  },
  {
   "cell_type": "code",
   "execution_count": 11,
   "metadata": {},
   "outputs": [
    {
     "name": "stdout",
     "output_type": "stream",
     "text": [
      "ws:// should match but doesn't\n",
      "http:// should match but doesn't\n",
      "https:// should match but doesn't\n"
     ]
    }
   ],
   "source": [
    "protocol.try_regex(\"\")"
   ]
  },
  {
   "cell_type": "code",
   "execution_count": 12,
   "metadata": {},
   "outputs": [
    {
     "name": "stdout",
     "output_type": "stream",
     "text": [
      "example.com should match but doesn't\n",
      "101domain.com should match but doesn't\n",
      "localhost should match but doesn't\n",
      "cs.uchicago.edu should match but doesn't\n",
      "a.b.c.biz should match but doesn't\n",
      "127.0.0.1 should match but doesn't\n",
      " should not match but does\n"
     ]
    }
   ],
   "source": [
    "domain.try_regex(\"\")"
   ]
  },
  {
   "cell_type": "code",
   "execution_count": 14,
   "metadata": {},
   "outputs": [],
   "source": [
    "url = RegexProblem(\n",
    "    [\"http://example.com\", \"http://localhost:8000\", \"ftp://127.0.0.1\", \n",
    "     \"http://example.com:80/index.html\", \"ws://a.b.c.edu/fruit/apple/123\"],\n",
    "    [\"http://\", \"example.com\", \"http://:0\", \"http://localhost:8000:8000\", \"http://test?biz\",\n",
    "     \"http://example.com/art/238$!!@\", \"https://e$.com\"]\n",
    ")\n",
    "# this list is far from exhaustive, but should provide a decent starting point"
   ]
  },
  {
   "cell_type": "code",
   "execution_count": 15,
   "metadata": {},
   "outputs": [
    {
     "name": "stdout",
     "output_type": "stream",
     "text": [
      "http://example.com should match but doesn't\n",
      "http://localhost:8000 should match but doesn't\n",
      "ftp://127.0.0.1 should match but doesn't\n",
      "http://example.com:80/index.html should match but doesn't\n",
      "ws://a.b.c.edu/fruit/apple/123 should match but doesn't\n"
     ]
    }
   ],
   "source": [
    "url.try_regex(\"\")"
   ]
  },
  {
   "cell_type": "markdown",
   "metadata": {},
   "source": [
    "\n",
    "### Note\n",
    "The rules given here are simplified from the actual URL syntax. In practice you should always opt to use urlparse to parse URLs instead of trying to \n",
    "build your own regex.  \n",
    "\n",
    "https://docs.python.org/3/library/urllib.parse.html#urllib.parse.urlparse"
   ]
  },
  {
   "cell_type": "markdown",
   "metadata": {},
   "source": [
    "## Problem 3: Groups\n",
    "\n",
    "Remember that a URL can end with a query string.\n",
    "\n",
    "A query string looks like `?var=val&var2=other_val&var3=123` and comes at the end of the URL.\n",
    "\n",
    "This is a good fit for `findall`.  We won't use `RegexProblem` anymore, but instead use `re.findall` to break up these query strings into their components. \n",
    "\n",
    "To keep things simple, let's use these rules:\n",
    "\n",
    "Each segment of a query string is separated from the others by an `&` and consists of a `name` and `value`.\n",
    "\n",
    "`names` must be comprised of letters, numbers, and underscores.\n",
    "\n",
    "`values` must be comprised of letters, numbers, and any punctuation that isn't a `&`.\n",
    "\n",
    "Use `re.findall` to extract these patterns.  (Hint: write your pattern to match *one* name=value pair)\n"
   ]
  },
  {
   "cell_type": "code",
   "execution_count": 16,
   "metadata": {},
   "outputs": [],
   "source": [
    "query_strings = [\n",
    "    \"?q=hello\",\n",
    "    \"?q=hello&lang=en\",\n",
    "    \"?q=plus+is+used+for+space+in+queries\",\n",
    "    \"?a=1&b=2&c=3&d=4\",\n",
    "    \"?first_name=Paul&last_name=Rust\",\n",
    "]"
   ]
  },
  {
   "cell_type": "code",
   "execution_count": 17,
   "metadata": {},
   "outputs": [],
   "source": [
    "# write your regex here\n",
    "qs_regex = re.compile(\"\")"
   ]
  },
  {
   "cell_type": "code",
   "execution_count": 18,
   "metadata": {},
   "outputs": [
    {
     "name": "stdout",
     "output_type": "stream",
     "text": [
      "['', '', '', '', '', '', '', '', '']\n",
      "['', '', '', '', '', '', '', '', '', '', '', '', '', '', '', '', '']\n",
      "['', '', '', '', '', '', '', '', '', '', '', '', '', '', '', '', '', '', '', '', '', '', '', '', '', '', '', '', '', '', '', '', '', '', '', '', '']\n",
      "['', '', '', '', '', '', '', '', '', '', '', '', '', '', '', '', '']\n",
      "['', '', '', '', '', '', '', '', '', '', '', '', '', '', '', '', '', '', '', '', '', '', '', '', '', '', '', '', '', '', '', '']\n"
     ]
    }
   ],
   "source": [
    "for query_string in query_strings:\n",
    "    print(qs_regex.findall(query_string))"
   ]
  },
  {
   "cell_type": "markdown",
   "metadata": {},
   "source": [
    "Your output should look like:\n",
    "```\n",
    "['q=hello']\n",
    "['q=hello', 'lang=en']\n",
    "['q=plus+is+used+for+space+in+queries']\n",
    "['a=1', 'b=2', 'c=3', 'd=4']\n",
    "['first_name=Paul', 'last_name=Rust']\n",
    "```"
   ]
  },
  {
   "cell_type": "markdown",
   "metadata": {},
   "source": [
    "**Now try using groups to capture the key and value separately so you instead get**\n",
    "\n",
    "```\n",
    "[('q', 'hello')]\n",
    "[('q', 'hello'), ('lang', 'en')]\n",
    "[('q', 'plus+is+used+for+space+in+queries')]\n",
    "[('a', '1'), ('b', '2'), ('c', '3'), ('d', '4')]\n",
    "```"
   ]
  },
  {
   "cell_type": "code",
   "execution_count": 39,
   "metadata": {},
   "outputs": [
    {
     "name": "stdout",
     "output_type": "stream",
     "text": [
      "['', '', '', '', '', '', '', '', '']\n",
      "['', '', '', '', '', '', '', '', '', '', '', '', '', '', '', '', '']\n",
      "['', '', '', '', '', '', '', '', '', '', '', '', '', '', '', '', '', '', '', '', '', '', '', '', '', '', '', '', '', '', '', '', '', '', '', '', '', '', '', '', '', '', '', '', '', '', '', '', '']\n",
      "['', '', '', '', '', '', '', '', '', '', '', '', '', '', '', '', '']\n",
      "['', '', '', '', '', '', '', '', '', '', '', '', '', '', '', '', '', '', '', '', '', '', '', '', '', '', '', '', '', '', '', '']\n"
     ]
    }
   ],
   "source": [
    "qs_regex_improved = re.compile(\"\")\n",
    "for query_string in query_strings:\n",
    "    print(qs_regex_improved.findall(query_string))"
   ]
  },
  {
   "cell_type": "markdown",
   "metadata": {},
   "source": [
    "## Problem 4: Word Variations\n",
    "\n",
    "We want to count how many times the word \"mother\" appears in shakespeare.txt."
   ]
  },
  {
   "cell_type": "code",
   "execution_count": 19,
   "metadata": {},
   "outputs": [],
   "source": [
    "with open(\"shakespeare.txt\") as f:\n",
    "    corpus = f.read()"
   ]
  },
  {
   "cell_type": "markdown",
   "metadata": {},
   "source": [
    "corpus.count(\"mother\")"
   ]
  },
  {
   "cell_type": "code",
   "execution_count": null,
   "metadata": {},
   "outputs": [],
   "source": []
  },
  {
   "cell_type": "code",
   "execution_count": 20,
   "metadata": {},
   "outputs": [
    {
     "data": {
      "text/plain": [
       "441"
      ]
     },
     "execution_count": 20,
     "metadata": {},
     "output_type": "execute_result"
    }
   ],
   "source": [
    "corpus.count(\"mother\")   # it is tempting to use str.count"
   ]
  },
  {
   "cell_type": "code",
   "execution_count": 21,
   "metadata": {},
   "outputs": [
    {
     "data": {
      "text/plain": [
       "35"
      ]
     },
     "execution_count": 21,
     "metadata": {},
     "output_type": "execute_result"
    }
   ],
   "source": [
    "corpus.count(\"Mother\")   # we want to ignore case too (which we could do with lower() in theory)"
   ]
  },
  {
   "cell_type": "code",
   "execution_count": 22,
   "metadata": {},
   "outputs": [
    {
     "data": {
      "text/plain": [
       "2"
      ]
     },
     "execution_count": 22,
     "metadata": {},
     "output_type": "execute_result"
    }
   ],
   "source": [
    "corpus.count(\"smothered\")  # but there are other words that contain \"mother\""
   ]
  },
  {
   "cell_type": "code",
   "execution_count": 23,
   "metadata": {},
   "outputs": [
    {
     "data": {
      "text/plain": [
       "143"
      ]
     },
     "execution_count": 23,
     "metadata": {},
     "output_type": "execute_result"
    }
   ],
   "source": [
    "corpus.count(\" mother \") # it is tempting to try something like this"
   ]
  },
  {
   "cell_type": "code",
   "execution_count": 24,
   "metadata": {},
   "outputs": [
    {
     "data": {
      "text/plain": [
       "80"
      ]
     },
     "execution_count": 24,
     "metadata": {},
     "output_type": "execute_result"
    }
   ],
   "source": [
    "corpus.count(\" mother,\") # but there are a lot of variations to account for"
   ]
  },
  {
   "cell_type": "code",
   "execution_count": 25,
   "metadata": {},
   "outputs": [],
   "source": [
    "# try to find a regex to find all instances of the word \"mother\" regardless of case\n",
    "# but excluding other words\n",
    "# Hint: Take a look at flags and anchors in the notes."
   ]
  },
  {
   "cell_type": "code",
   "execution_count": 26,
   "metadata": {},
   "outputs": [
    {
     "data": {
      "text/plain": [
       "[]"
      ]
     },
     "execution_count": 26,
     "metadata": {},
     "output_type": "execute_result"
    }
   ],
   "source": [
    "re.findall(\"write-your-regex-here\", corpus)"
   ]
  },
  {
   "cell_type": "code",
   "execution_count": null,
   "metadata": {},
   "outputs": [],
   "source": [
    "# you can call `len` on this to get the total count -- my count was 437"
   ]
  },
  {
   "cell_type": "markdown",
   "metadata": {},
   "source": [
    "## Problem 5: Finding Ghosts\n",
    "\n",
    "Let's find all of the ghosts in shakespare.txt\n",
    "\n",
    "First, Find 30 occurrences of the word ghost (excludes cases where it is part of another word)"
   ]
  },
  {
   "cell_type": "code",
   "execution_count": 68,
   "metadata": {},
   "outputs": [
    {
     "name": "stdout",
     "output_type": "stream",
     "text": [
      "found 0 ghosts\n"
     ]
    }
   ],
   "source": [
    "ghosts = re.findall(r\"FIXME\", corpus) \n",
    "print(\"found\", len(ghosts), \"ghosts\")"
   ]
  },
  {
   "cell_type": "markdown",
   "metadata": {},
   "source": [
    "Second, expand the regex to capture neighboring words:"
   ]
  },
  {
   "cell_type": "code",
   "execution_count": 73,
   "metadata": {},
   "outputs": [
    {
     "data": {
      "text/plain": [
       "[]"
      ]
     },
     "execution_count": 73,
     "metadata": {},
     "output_type": "execute_result"
    }
   ],
   "source": [
    "# Expand the regex to find mutiple words on either side -- \n",
    "# so you can see the context in which the word \"ghost\" appears\n",
    "# as you expand, the number of ghosts should remain the same!\n",
    "re.findall(r\"FIXME\", corpus) "
   ]
  },
  {
   "cell_type": "markdown",
   "metadata": {},
   "source": [
    "Your output will likely contain strings like \"poor mortal living ghost,\\n Woe's scene\" \n",
    "but can vary a lot depending on the rules you choose many words you choose to include as context.\n",
    "Don't worry about the exact matches, but you can stop when you have found the name of 2-3 ghosts\n",
    "by reading the expanded context."
   ]
  },
  {
   "cell_type": "markdown",
   "metadata": {},
   "source": []
  }
 ],
 "metadata": {
  "kernelspec": {
   "display_name": "Python 3 (ipykernel)",
   "language": "python",
   "name": "python3"
  },
  "language_info": {
   "codemirror_mode": {
    "name": "ipython",
    "version": 3
   },
   "file_extension": ".py",
   "mimetype": "text/x-python",
   "name": "python",
   "nbconvert_exporter": "python",
   "pygments_lexer": "ipython3",
   "version": "3.10.15"
  },
  "vscode": {
   "interpreter": {
    "hash": "b0fa6594d8f4cbf19f97940f81e996739fb7646882a419484c72d19e05852a7e"
   }
  }
 },
 "nbformat": 4,
 "nbformat_minor": 4
}
